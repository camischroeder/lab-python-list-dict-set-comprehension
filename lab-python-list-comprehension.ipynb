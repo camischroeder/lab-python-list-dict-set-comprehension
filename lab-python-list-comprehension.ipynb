{
 "cells": [
  {
   "cell_type": "markdown",
   "id": "25d7736c-ba17-4aff-b6bb-66eba20fbf4e",
   "metadata": {},
   "source": [
    "# Lab | List, Dict and Set Comprehension"
   ]
  },
  {
   "cell_type": "markdown",
   "id": "7dd3cbde-675a-4b81-92c3-f728846dbe06",
   "metadata": {},
   "source": [
    "## Exercise: Managing Customer Orders Optimized with Comprehension"
   ]
  },
  {
   "cell_type": "markdown",
   "id": "5d500160-2fb7-4777-b5e4-09d45ebaf328",
   "metadata": {},
   "source": [
    "In the previous exercise, you developed a program to manage customer orders and inventory. Now, let's take it a step further and incorporate comprehension into your code.\n",
    "\n",
    "Follow the steps below to complete the exercise:\n"
   ]
  },
  {
   "cell_type": "markdown",
   "id": "1e488f6c",
   "metadata": {},
   "source": [
    "# 1. Review your code from the previous exercise and identify areas where you can apply comprehension to simplify and streamline your code. \n",
    "\n",
    "- *Hint: Apply it to initialize inventory, updating the inventory and printing the updated inventory.*\n",
    "\n",
    "- For example, in initializing the inventory, we could have:\n",
    "\n",
    "def initialize_inventory(products):\n",
    "    inventory = {product: int(input(f\"Enter the quantity of {product}s available: \")) for product in products}\n",
    "    return inventory"
   ]
  },
  {
   "cell_type": "code",
   "execution_count": 1,
   "id": "ae6bda94",
   "metadata": {},
   "outputs": [],
   "source": [
    "products = [\"hat\", \"mug\",  \"keychain\",  \"book\", \"t-shirt\"]\n",
    "customer_orders = set([\"hat\", \"mug\", \"keychain\"])"
   ]
  },
  {
   "cell_type": "code",
   "execution_count": 2,
   "id": "1dc158cf",
   "metadata": {},
   "outputs": [],
   "source": [
    "def initialize_inventory(prod):\n",
    "    inventory = {product: int(input(f\"Enter the quantity of {product}s available: \")) for product in prod}\n",
    "    return inventory\n",
    "\n",
    "inventory = initialize_inventory(products)"
   ]
  },
  {
   "cell_type": "code",
   "execution_count": 3,
   "id": "87a60e72",
   "metadata": {},
   "outputs": [
    {
     "data": {
      "text/plain": [
       "{'hat': 3, 'mug': 3, 'keychain': 3, 'book': 5, 't-shirt': 5}"
      ]
     },
     "execution_count": 3,
     "metadata": {},
     "output_type": "execute_result"
    }
   ],
   "source": [
    "def update_inventory(cust_ord, invent):\n",
    "    updated_inventory = {item: invent[item] - int(input(f\"How many {item}s would you like to purchase?\")) if item in cust_ord else invent[item] for item in invent}\n",
    "    return updated_inventory\n",
    "\n",
    "update_inventory(customer_orders, inventory)"
   ]
  },
  {
   "cell_type": "markdown",
   "id": "78dbd58c",
   "metadata": {},
   "source": [
    "# 2. Modify the function get_customer_orders so it prompts the user to enter the number of customer orders and gathers the product names using a loop and user input. Use comprehension."
   ]
  },
  {
   "cell_type": "code",
   "execution_count": 4,
   "id": "808dad23",
   "metadata": {},
   "outputs": [
    {
     "name": "stdout",
     "output_type": "stream",
     "text": [
      "These are the contents of your cart:  {'mug', 'hat', 'keychain'}\n"
     ]
    },
    {
     "data": {
      "text/plain": [
       "{'hat', 'keychain', 'mug'}"
      ]
     },
     "execution_count": 4,
     "metadata": {},
     "output_type": "execute_result"
    }
   ],
   "source": [
    "def get_customer_orders(products):\n",
    "    customer_orders = {prod for prod in products if input(f\"Do you want to order {prod}? (yes/no): \").lower() == \"yes\"}\n",
    "    print(\"These are the contents of your cart: \", customer_orders)\n",
    "    return customer_orders\n",
    "\n",
    "get_customer_orders(products)"
   ]
  },
  {
   "cell_type": "markdown",
   "id": "72a5d290",
   "metadata": {},
   "source": [
    "# 3. Add a new function to calculate the total price of the customer order. For each product in customer_orders, prompt the user to enter the price of that product. Use comprehension to calculate the total price. Note: assume that the user can only have 1 unit of each product."
   ]
  },
  {
   "cell_type": "code",
   "execution_count": 5,
   "id": "3b79b34f",
   "metadata": {},
   "outputs": [],
   "source": [
    "def final_price(cust_ord):\n",
    "    final_price = [int(input(f\"How much does a {prod} cost?\")) for prod in cust_ord]\n",
    "\n",
    "    return sum(final_price)"
   ]
  },
  {
   "cell_type": "code",
   "execution_count": 6,
   "id": "0b88434d",
   "metadata": {},
   "outputs": [
    {
     "data": {
      "text/plain": [
       "6"
      ]
     },
     "execution_count": 6,
     "metadata": {},
     "output_type": "execute_result"
    }
   ],
   "source": [
    "final_price(customer_orders)"
   ]
  },
  {
   "cell_type": "markdown",
   "id": "c328303f",
   "metadata": {},
   "source": [
    "# 4. Modify the update_inventory function to remove the product from the inventory if its quantity becomes zero after fulfilling the customer orders. Use comprehension to filter out the products with a quantity of zero from the inventory."
   ]
  },
  {
   "cell_type": "code",
   "execution_count": 9,
   "id": "a237adc3",
   "metadata": {},
   "outputs": [],
   "source": [
    "def update_inventory(cust_ord, invent):\n",
    "    invent = {item:invent[item]-int(input(f\"select the amount of {item} you want\")) if item in cust_ord else invent[item] for item in invent}\n",
    "    updated_inventory = {item: qty for item, qty in invent.items() if qty > 0}\n",
    "    return updated_inventory"
   ]
  },
  {
   "cell_type": "code",
   "execution_count": 10,
   "id": "03b9d152",
   "metadata": {},
   "outputs": [
    {
     "data": {
      "text/plain": [
       "{'hat': 3, 'mug': 3, 'keychain': 3, 'book': 5, 't-shirt': 5}"
      ]
     },
     "execution_count": 10,
     "metadata": {},
     "output_type": "execute_result"
    }
   ],
   "source": [
    "update_inventory(customer_orders, inventory)"
   ]
  },
  {
   "cell_type": "markdown",
   "id": "3aa68a18",
   "metadata": {},
   "source": [
    "# 5. Print the total price of the customer order."
   ]
  },
  {
   "cell_type": "code",
   "execution_count": 11,
   "id": "099d798a",
   "metadata": {},
   "outputs": [
    {
     "name": "stdout",
     "output_type": "stream",
     "text": [
      "The final price of your order is 9\n"
     ]
    }
   ],
   "source": [
    "print(f\"The final price of your order is {final_price(customer_orders)}\")"
   ]
  },
  {
   "cell_type": "code",
   "execution_count": null,
   "id": "39bdb0f4",
   "metadata": {},
   "outputs": [],
   "source": [
    "Your code should produce output similar to the following:\n",
    "\n",
    "```python\n",
    "Enter the quantity of t-shirts available:  5\n",
    "Enter the quantity of mugs available:  4\n",
    "Enter the quantity of hats available:  3\n",
    "Enter the quantity of books available:  2\n",
    "Enter the quantity of keychains available:  1\n",
    "Enter the number of customer orders:  2\n",
    "Enter the name of a product that a customer wants to order:  hat\n",
    "Enter the name of a product that a customer wants to order:  keychain\n",
    "\n",
    "Order Statistics:\n",
    "Total Products Ordered: 2\n",
    "Percentage of Unique Products Ordered: 40.0\n",
    "\n",
    "Updated Inventory:\n",
    "t-shirt: 5\n",
    "mug: 4\n",
    "hat: 2\n",
    "book: 2\n",
    "Enter the price of keychain:  5\n",
    "Enter the price of hat:  10\n",
    "Total Price: 15.0"
   ]
  }
 ],
 "metadata": {
  "kernelspec": {
   "display_name": "Python 3 (ipykernel)",
   "language": "python",
   "name": "python3"
  },
  "language_info": {
   "codemirror_mode": {
    "name": "ipython",
    "version": 3
   },
   "file_extension": ".py",
   "mimetype": "text/x-python",
   "name": "python",
   "nbconvert_exporter": "python",
   "pygments_lexer": "ipython3",
   "version": "3.11.4"
  }
 },
 "nbformat": 4,
 "nbformat_minor": 5
}
